{
  "nbformat": 4,
  "nbformat_minor": 0,
  "metadata": {
    "colab": {
      "name": "diabities.ipynb",
      "provenance": []
    },
    "kernelspec": {
      "name": "python3",
      "display_name": "Python 3"
    },
    "language_info": {
      "name": "python"
    }
  },
  "cells": [
    {
      "cell_type": "markdown",
      "source": [
        "\n",
        "\n",
        "# Imports & Data loading\n"
      ],
      "metadata": {
        "id": "7M6-jGXfh2O4"
      }
    },
    {
      "cell_type": "code",
      "execution_count": 18,
      "metadata": {
        "id": "adnHIp6rYyeI"
      },
      "outputs": [],
      "source": [
        "import numpy as np\n",
        "import torch\n",
        "import torch.nn as nn\n",
        "import pandas as pd\n",
        "from sklearn.preprocessing import StandardScaler\n",
        "from torch.utils.data import Dataset\n",
        "from torch.utils.data import dataloader"
      ]
    },
    {
      "cell_type": "code",
      "source": [
        "# Load Dataset using Pandas\n",
        "data = pd.read_csv(\"diabetes.csv\")"
      ],
      "metadata": {
        "id": "tAY9lbDOb-w7"
      },
      "execution_count": 2,
      "outputs": []
    },
    {
      "cell_type": "code",
      "source": [
        "data"
      ],
      "metadata": {
        "colab": {
          "base_uri": "https://localhost:8080/",
          "height": 424
        },
        "id": "Shro4qgBdHVJ",
        "outputId": "6421d7bd-e1ff-439a-bc2d-e1a41d10fb92"
      },
      "execution_count": 3,
      "outputs": [
        {
          "output_type": "execute_result",
          "data": {
            "text/plain": [
              "     Number of times pregnant  Plasma glucose concentration  \\\n",
              "0                           6                           148   \n",
              "1                           1                            85   \n",
              "2                           8                           183   \n",
              "3                           1                            89   \n",
              "4                           0                           137   \n",
              "..                        ...                           ...   \n",
              "763                        10                           101   \n",
              "764                         2                           122   \n",
              "765                         5                           121   \n",
              "766                         1                           126   \n",
              "767                         1                            93   \n",
              "\n",
              "     Diastolic blood pressure  Triceps skin fold thickness  \\\n",
              "0                          72                           35   \n",
              "1                          66                           29   \n",
              "2                          64                            0   \n",
              "3                          66                           23   \n",
              "4                          40                           35   \n",
              "..                        ...                          ...   \n",
              "763                        76                           48   \n",
              "764                        70                           27   \n",
              "765                        72                           23   \n",
              "766                        60                            0   \n",
              "767                        70                           31   \n",
              "\n",
              "     2-Hour serum insulin  Body mass index  Age     Class  \n",
              "0                       0             33.6   50  positive  \n",
              "1                       0             26.6   31  negative  \n",
              "2                       0             23.3   32  positive  \n",
              "3                      94             28.1   21  negative  \n",
              "4                     168             43.1   33  positive  \n",
              "..                    ...              ...  ...       ...  \n",
              "763                   180             32.9   63  negative  \n",
              "764                     0             36.8   27  negative  \n",
              "765                   112             26.2   30  negative  \n",
              "766                     0             30.1   47  positive  \n",
              "767                     0             30.4   23  negative  \n",
              "\n",
              "[768 rows x 8 columns]"
            ],
            "text/html": [
              "\n",
              "  <div id=\"df-ed77f575-2754-4295-b375-812f262d88d4\">\n",
              "    <div class=\"colab-df-container\">\n",
              "      <div>\n",
              "<style scoped>\n",
              "    .dataframe tbody tr th:only-of-type {\n",
              "        vertical-align: middle;\n",
              "    }\n",
              "\n",
              "    .dataframe tbody tr th {\n",
              "        vertical-align: top;\n",
              "    }\n",
              "\n",
              "    .dataframe thead th {\n",
              "        text-align: right;\n",
              "    }\n",
              "</style>\n",
              "<table border=\"1\" class=\"dataframe\">\n",
              "  <thead>\n",
              "    <tr style=\"text-align: right;\">\n",
              "      <th></th>\n",
              "      <th>Number of times pregnant</th>\n",
              "      <th>Plasma glucose concentration</th>\n",
              "      <th>Diastolic blood pressure</th>\n",
              "      <th>Triceps skin fold thickness</th>\n",
              "      <th>2-Hour serum insulin</th>\n",
              "      <th>Body mass index</th>\n",
              "      <th>Age</th>\n",
              "      <th>Class</th>\n",
              "    </tr>\n",
              "  </thead>\n",
              "  <tbody>\n",
              "    <tr>\n",
              "      <th>0</th>\n",
              "      <td>6</td>\n",
              "      <td>148</td>\n",
              "      <td>72</td>\n",
              "      <td>35</td>\n",
              "      <td>0</td>\n",
              "      <td>33.6</td>\n",
              "      <td>50</td>\n",
              "      <td>positive</td>\n",
              "    </tr>\n",
              "    <tr>\n",
              "      <th>1</th>\n",
              "      <td>1</td>\n",
              "      <td>85</td>\n",
              "      <td>66</td>\n",
              "      <td>29</td>\n",
              "      <td>0</td>\n",
              "      <td>26.6</td>\n",
              "      <td>31</td>\n",
              "      <td>negative</td>\n",
              "    </tr>\n",
              "    <tr>\n",
              "      <th>2</th>\n",
              "      <td>8</td>\n",
              "      <td>183</td>\n",
              "      <td>64</td>\n",
              "      <td>0</td>\n",
              "      <td>0</td>\n",
              "      <td>23.3</td>\n",
              "      <td>32</td>\n",
              "      <td>positive</td>\n",
              "    </tr>\n",
              "    <tr>\n",
              "      <th>3</th>\n",
              "      <td>1</td>\n",
              "      <td>89</td>\n",
              "      <td>66</td>\n",
              "      <td>23</td>\n",
              "      <td>94</td>\n",
              "      <td>28.1</td>\n",
              "      <td>21</td>\n",
              "      <td>negative</td>\n",
              "    </tr>\n",
              "    <tr>\n",
              "      <th>4</th>\n",
              "      <td>0</td>\n",
              "      <td>137</td>\n",
              "      <td>40</td>\n",
              "      <td>35</td>\n",
              "      <td>168</td>\n",
              "      <td>43.1</td>\n",
              "      <td>33</td>\n",
              "      <td>positive</td>\n",
              "    </tr>\n",
              "    <tr>\n",
              "      <th>...</th>\n",
              "      <td>...</td>\n",
              "      <td>...</td>\n",
              "      <td>...</td>\n",
              "      <td>...</td>\n",
              "      <td>...</td>\n",
              "      <td>...</td>\n",
              "      <td>...</td>\n",
              "      <td>...</td>\n",
              "    </tr>\n",
              "    <tr>\n",
              "      <th>763</th>\n",
              "      <td>10</td>\n",
              "      <td>101</td>\n",
              "      <td>76</td>\n",
              "      <td>48</td>\n",
              "      <td>180</td>\n",
              "      <td>32.9</td>\n",
              "      <td>63</td>\n",
              "      <td>negative</td>\n",
              "    </tr>\n",
              "    <tr>\n",
              "      <th>764</th>\n",
              "      <td>2</td>\n",
              "      <td>122</td>\n",
              "      <td>70</td>\n",
              "      <td>27</td>\n",
              "      <td>0</td>\n",
              "      <td>36.8</td>\n",
              "      <td>27</td>\n",
              "      <td>negative</td>\n",
              "    </tr>\n",
              "    <tr>\n",
              "      <th>765</th>\n",
              "      <td>5</td>\n",
              "      <td>121</td>\n",
              "      <td>72</td>\n",
              "      <td>23</td>\n",
              "      <td>112</td>\n",
              "      <td>26.2</td>\n",
              "      <td>30</td>\n",
              "      <td>negative</td>\n",
              "    </tr>\n",
              "    <tr>\n",
              "      <th>766</th>\n",
              "      <td>1</td>\n",
              "      <td>126</td>\n",
              "      <td>60</td>\n",
              "      <td>0</td>\n",
              "      <td>0</td>\n",
              "      <td>30.1</td>\n",
              "      <td>47</td>\n",
              "      <td>positive</td>\n",
              "    </tr>\n",
              "    <tr>\n",
              "      <th>767</th>\n",
              "      <td>1</td>\n",
              "      <td>93</td>\n",
              "      <td>70</td>\n",
              "      <td>31</td>\n",
              "      <td>0</td>\n",
              "      <td>30.4</td>\n",
              "      <td>23</td>\n",
              "      <td>negative</td>\n",
              "    </tr>\n",
              "  </tbody>\n",
              "</table>\n",
              "<p>768 rows × 8 columns</p>\n",
              "</div>\n",
              "      <button class=\"colab-df-convert\" onclick=\"convertToInteractive('df-ed77f575-2754-4295-b375-812f262d88d4')\"\n",
              "              title=\"Convert this dataframe to an interactive table.\"\n",
              "              style=\"display:none;\">\n",
              "        \n",
              "  <svg xmlns=\"http://www.w3.org/2000/svg\" height=\"24px\"viewBox=\"0 0 24 24\"\n",
              "       width=\"24px\">\n",
              "    <path d=\"M0 0h24v24H0V0z\" fill=\"none\"/>\n",
              "    <path d=\"M18.56 5.44l.94 2.06.94-2.06 2.06-.94-2.06-.94-.94-2.06-.94 2.06-2.06.94zm-11 1L8.5 8.5l.94-2.06 2.06-.94-2.06-.94L8.5 2.5l-.94 2.06-2.06.94zm10 10l.94 2.06.94-2.06 2.06-.94-2.06-.94-.94-2.06-.94 2.06-2.06.94z\"/><path d=\"M17.41 7.96l-1.37-1.37c-.4-.4-.92-.59-1.43-.59-.52 0-1.04.2-1.43.59L10.3 9.45l-7.72 7.72c-.78.78-.78 2.05 0 2.83L4 21.41c.39.39.9.59 1.41.59.51 0 1.02-.2 1.41-.59l7.78-7.78 2.81-2.81c.8-.78.8-2.07 0-2.86zM5.41 20L4 18.59l7.72-7.72 1.47 1.35L5.41 20z\"/>\n",
              "  </svg>\n",
              "      </button>\n",
              "      \n",
              "  <style>\n",
              "    .colab-df-container {\n",
              "      display:flex;\n",
              "      flex-wrap:wrap;\n",
              "      gap: 12px;\n",
              "    }\n",
              "\n",
              "    .colab-df-convert {\n",
              "      background-color: #E8F0FE;\n",
              "      border: none;\n",
              "      border-radius: 50%;\n",
              "      cursor: pointer;\n",
              "      display: none;\n",
              "      fill: #1967D2;\n",
              "      height: 32px;\n",
              "      padding: 0 0 0 0;\n",
              "      width: 32px;\n",
              "    }\n",
              "\n",
              "    .colab-df-convert:hover {\n",
              "      background-color: #E2EBFA;\n",
              "      box-shadow: 0px 1px 2px rgba(60, 64, 67, 0.3), 0px 1px 3px 1px rgba(60, 64, 67, 0.15);\n",
              "      fill: #174EA6;\n",
              "    }\n",
              "\n",
              "    [theme=dark] .colab-df-convert {\n",
              "      background-color: #3B4455;\n",
              "      fill: #D2E3FC;\n",
              "    }\n",
              "\n",
              "    [theme=dark] .colab-df-convert:hover {\n",
              "      background-color: #434B5C;\n",
              "      box-shadow: 0px 1px 3px 1px rgba(0, 0, 0, 0.15);\n",
              "      filter: drop-shadow(0px 1px 2px rgba(0, 0, 0, 0.3));\n",
              "      fill: #FFFFFF;\n",
              "    }\n",
              "  </style>\n",
              "\n",
              "      <script>\n",
              "        const buttonEl =\n",
              "          document.querySelector('#df-ed77f575-2754-4295-b375-812f262d88d4 button.colab-df-convert');\n",
              "        buttonEl.style.display =\n",
              "          google.colab.kernel.accessAllowed ? 'block' : 'none';\n",
              "\n",
              "        async function convertToInteractive(key) {\n",
              "          const element = document.querySelector('#df-ed77f575-2754-4295-b375-812f262d88d4');\n",
              "          const dataTable =\n",
              "            await google.colab.kernel.invokeFunction('convertToInteractive',\n",
              "                                                     [key], {});\n",
              "          if (!dataTable) return;\n",
              "\n",
              "          const docLinkHtml = 'Like what you see? Visit the ' +\n",
              "            '<a target=\"_blank\" href=https://colab.research.google.com/notebooks/data_table.ipynb>data table notebook</a>'\n",
              "            + ' to learn more about interactive tables.';\n",
              "          element.innerHTML = '';\n",
              "          dataTable['output_type'] = 'display_data';\n",
              "          await google.colab.output.renderOutput(dataTable, element);\n",
              "          const docLink = document.createElement('div');\n",
              "          docLink.innerHTML = docLinkHtml;\n",
              "          element.appendChild(docLink);\n",
              "        }\n",
              "      </script>\n",
              "    </div>\n",
              "  </div>\n",
              "  "
            ]
          },
          "metadata": {},
          "execution_count": 3
        }
      ]
    },
    {
      "cell_type": "code",
      "source": [
        "# Extract the train & test data\n",
        "x = data.iloc[: , 0:-1].values\n",
        "y_string = list(data.iloc[:,-1])\n",
        "y_string[:10]"
      ],
      "metadata": {
        "colab": {
          "base_uri": "https://localhost:8080/"
        },
        "id": "5pu-mKsqdKUU",
        "outputId": "407f7a82-3565-41ad-d24d-dfa512d6413a"
      },
      "execution_count": 4,
      "outputs": [
        {
          "output_type": "execute_result",
          "data": {
            "text/plain": [
              "['positive',\n",
              " 'negative',\n",
              " 'positive',\n",
              " 'negative',\n",
              " 'positive',\n",
              " 'negative',\n",
              " 'positive',\n",
              " 'negative',\n",
              " 'positive',\n",
              " 'positive']"
            ]
          },
          "metadata": {},
          "execution_count": 4
        }
      ]
    },
    {
      "cell_type": "code",
      "source": [
        "# convert the test data to integers\n",
        "y_int = []\n",
        "for s in y_string:\n",
        "  if s == 'positive':\n",
        "    y_int.append(1)\n",
        "  else:\n",
        "    y_int.append(0)"
      ],
      "metadata": {
        "id": "xgy5L-hLeIao"
      },
      "execution_count": 5,
      "outputs": []
    },
    {
      "cell_type": "code",
      "source": [
        "y_int[:10]"
      ],
      "metadata": {
        "colab": {
          "base_uri": "https://localhost:8080/"
        },
        "id": "mTRS5GtefJUJ",
        "outputId": "406ae9fe-ab89-48aa-978f-4924d80b3a3c"
      },
      "execution_count": 6,
      "outputs": [
        {
          "output_type": "execute_result",
          "data": {
            "text/plain": [
              "[1, 0, 1, 0, 1, 0, 1, 0, 1, 1]"
            ]
          },
          "metadata": {},
          "execution_count": 6
        }
      ]
    },
    {
      "cell_type": "code",
      "source": [
        "# convert to a numpy array\n",
        "y = np.array(y_int, dtype = 'float64')"
      ],
      "metadata": {
        "id": "iLlmf_P3fKY3"
      },
      "execution_count": 7,
      "outputs": []
    },
    {
      "cell_type": "markdown",
      "source": [
        "# Normalize X"
      ],
      "metadata": {
        "id": "DYLQIvNtghfk"
      }
    },
    {
      "cell_type": "code",
      "source": [
        "x[:5]"
      ],
      "metadata": {
        "colab": {
          "base_uri": "https://localhost:8080/"
        },
        "id": "XebtG85RgbHd",
        "outputId": "9abec297-54a1-4de8-9180-41f5d6b14924"
      },
      "execution_count": 8,
      "outputs": [
        {
          "output_type": "execute_result",
          "data": {
            "text/plain": [
              "array([[  6. , 148. ,  72. ,  35. ,   0. ,  33.6,  50. ],\n",
              "       [  1. ,  85. ,  66. ,  29. ,   0. ,  26.6,  31. ],\n",
              "       [  8. , 183. ,  64. ,   0. ,   0. ,  23.3,  32. ],\n",
              "       [  1. ,  89. ,  66. ,  23. ,  94. ,  28.1,  21. ],\n",
              "       [  0. , 137. ,  40. ,  35. , 168. ,  43.1,  33. ]])"
            ]
          },
          "metadata": {},
          "execution_count": 8
        }
      ]
    },
    {
      "cell_type": "code",
      "source": [
        "# Normalize every feature in the X dataset to (-1, 1)\n",
        "sc = StandardScaler()\n",
        "x = sc.fit_transform(x)   # calc mean "
      ],
      "metadata": {
        "id": "qM-fAi2JfkXf"
      },
      "execution_count": 9,
      "outputs": []
    },
    {
      "cell_type": "code",
      "source": [
        "x[:5]"
      ],
      "metadata": {
        "colab": {
          "base_uri": "https://localhost:8080/"
        },
        "id": "h3LEqrg6gWPA",
        "outputId": "0527ded6-8ae3-4fff-9541-9d2b2f971508"
      },
      "execution_count": 10,
      "outputs": [
        {
          "output_type": "execute_result",
          "data": {
            "text/plain": [
              "array([[ 0.63994726,  0.84832379,  0.14964075,  0.90726993, -0.69289057,\n",
              "         0.20401277,  1.4259954 ],\n",
              "       [-0.84488505, -1.12339636, -0.16054575,  0.53090156, -0.69289057,\n",
              "        -0.68442195, -0.19067191],\n",
              "       [ 1.23388019,  1.94372388, -0.26394125, -1.28821221, -0.69289057,\n",
              "        -1.10325546, -0.10558415],\n",
              "       [-0.84488505, -0.99820778, -0.16054575,  0.15453319,  0.12330164,\n",
              "        -0.49404308, -1.04154944],\n",
              "       [-1.14185152,  0.5040552 , -1.50468724,  0.90726993,  0.76583594,\n",
              "         1.4097456 , -0.0204964 ]])"
            ]
          },
          "metadata": {},
          "execution_count": 10
        }
      ]
    },
    {
      "cell_type": "markdown",
      "source": [
        "# Converting to Torch"
      ],
      "metadata": {
        "id": "Q1o3Wz3MgvLw"
      }
    },
    {
      "cell_type": "code",
      "source": [
        "x = torch.tensor(x)\n",
        "y = torch.tensor(y).unsqueeze(1)"
      ],
      "metadata": {
        "id": "k3DUetBAgyBi"
      },
      "execution_count": 11,
      "outputs": []
    },
    {
      "cell_type": "code",
      "source": [
        "print(x.shape)\n",
        "print(y.shape)"
      ],
      "metadata": {
        "colab": {
          "base_uri": "https://localhost:8080/"
        },
        "id": "CtEinqYXg66o",
        "outputId": "b6ebff0b-aa75-4470-b65e-44bd0f1707b0"
      },
      "execution_count": 14,
      "outputs": [
        {
          "output_type": "stream",
          "name": "stdout",
          "text": [
            "torch.Size([768, 7])\n",
            "torch.Size([768, 1])\n"
          ]
        }
      ]
    },
    {
      "cell_type": "markdown",
      "source": [
        "# define Dateset"
      ],
      "metadata": {
        "id": "dY7QgsqHhtwz"
      }
    },
    {
      "cell_type": "code",
      "source": [
        "class Dataset(Dataset):\n",
        "\n",
        "  def __init__(self, x, y):\n",
        "    self.x = x\n",
        "    self.y = y\n",
        "  \n",
        "  def __getitem__(self, index):\n",
        "      return self.x[index], self.y[index]\n",
        "    \n",
        "  def __len__(self):\n",
        "    return len(self.x)\n",
        "    "
      ],
      "metadata": {
        "id": "T-7tngrchxZ-"
      },
      "execution_count": 15,
      "outputs": []
    },
    {
      "cell_type": "code",
      "source": [
        "dataset = Dataset(x,y)\n",
        "len(dataset)"
      ],
      "metadata": {
        "colab": {
          "base_uri": "https://localhost:8080/"
        },
        "id": "VnPjT7vhissG",
        "outputId": "fba05bd3-1107-4b2e-c494-45d0b6cb58de"
      },
      "execution_count": 17,
      "outputs": [
        {
          "output_type": "execute_result",
          "data": {
            "text/plain": [
              "768"
            ]
          },
          "metadata": {},
          "execution_count": 17
        }
      ]
    },
    {
      "cell_type": "code",
      "source": [
        "# load data using dataloader\n",
        "train_loader = torch.utils.data.DataLoader(dataset = dataset, batch_size= 32, shuffle= True)"
      ],
      "metadata": {
        "id": "swVp4IsRiokJ"
      },
      "execution_count": 20,
      "outputs": []
    },
    {
      "cell_type": "code",
      "source": [
        "# a glance on our data loader\n",
        "print(\"There is {} batches in the dataset\".format(len(train_loader)))\n",
        "for (x,y) in train_loader:\n",
        "  print(\"For one iteration (batch) there is: \")\n",
        "  print(\"Data:    {}\".format(x.shape))\n",
        "  print(\"Labels:  {}\".format(y.shape))\n",
        "  break"
      ],
      "metadata": {
        "colab": {
          "base_uri": "https://localhost:8080/"
        },
        "id": "nbzcVinXjQJH",
        "outputId": "201c703f-dc85-45a3-b279-19623e14879f"
      },
      "execution_count": 23,
      "outputs": [
        {
          "output_type": "stream",
          "name": "stdout",
          "text": [
            "There is 24 batches in the dataset\n",
            "For one iteration (batch) there is: \n",
            "Data:    torch.Size([32, 7])\n",
            "Labels:  torch.Size([32, 1])\n"
          ]
        }
      ]
    },
    {
      "cell_type": "markdown",
      "source": [
        "# Building the Neural Network\n",
        "\n",
        "we build a 7 input features NN with one output layer. <br>\n",
        "The output will go throught a Sigmoid function in order to get the distrbutuion of out network and to range the output (0-1)"
      ],
      "metadata": {
        "id": "DNPmPIrykSpx"
      }
    },
    {
      "cell_type": "code",
      "source": [
        "class NN(nn.Module):\n",
        "\n",
        "  def __init__(self, input_featurs, output_featurs):\n",
        "\n",
        "    super(NN, self).__init__()\n",
        "    #layers\n",
        "    self.fc1 = nn.Linear(input_featurs,5)\n",
        "    self.fc2 = nn.Linear(5,4)\n",
        "    self.fc3 = nn.Linear(4,3)\n",
        "    self.fc4 = nn.Linear(3,output_featurs)\n",
        "    #activation functions\n",
        "    self.sigmoid = nn.Sigmoid()\n",
        "    self.tanh = nn.Tanh()\n",
        "\n",
        "  def forward(self, x):\n",
        "    \n",
        "    out = self.fc1(x)\n",
        "    out = self.tanh(out)\n",
        "    out = self.fc2(out)\n",
        "    out = self.tanh(out)\n",
        "    out = self.fc3(out)\n",
        "    out = self.tanh(out)\n",
        "    out = self.fc4(out)\n",
        "    out = self.sigmoid(out)\n",
        "    return out\n"
      ],
      "metadata": {
        "id": "Kfl5rYjgkWEQ"
      },
      "execution_count": 25,
      "outputs": []
    },
    {
      "cell_type": "code",
      "source": [
        "# create a neural network\n",
        "net = NN(7,1)"
      ],
      "metadata": {
        "id": "dJIjX39fnUK7"
      },
      "execution_count": 26,
      "outputs": []
    },
    {
      "cell_type": "code",
      "source": [
        "# Binary Cross Entrepy\n",
        "criterion = torch.nn.BCELoss(size_average= True)"
      ],
      "metadata": {
        "colab": {
          "base_uri": "https://localhost:8080/"
        },
        "id": "Edw9LGPrnZsP",
        "outputId": "d080d71d-8a30-4142-87a2-e6af3b818ffe"
      },
      "execution_count": 27,
      "outputs": [
        {
          "output_type": "stream",
          "name": "stderr",
          "text": [
            "/usr/local/lib/python3.7/dist-packages/torch/nn/_reduction.py:42: UserWarning: size_average and reduce args will be deprecated, please use reduction='mean' instead.\n",
            "  warnings.warn(warning.format(ret))\n"
          ]
        }
      ]
    },
    {
      "cell_type": "code",
      "source": [
        "# use SGD optimizer\n",
        "optimizer = torch.optim.SGD(net.parameters(), lr = 0.1, momentum= 0.9)"
      ],
      "metadata": {
        "id": "Zpg588cSnwJX"
      },
      "execution_count": 28,
      "outputs": []
    },
    {
      "cell_type": "markdown",
      "source": [
        "# Train the Neural Network"
      ],
      "metadata": {
        "id": "rRoBlPetodPc"
      }
    },
    {
      "cell_type": "code",
      "source": [
        "# define hyperparameters\n",
        "epochs = 200\n",
        "# train loop\n",
        "for epoch in range(epochs):\n",
        "  for inputs, labels in train_loader:\n",
        "    inputs = inputs.float()\n",
        "    labels = labels.float()\n",
        "    # forward Prop\n",
        "    outputs = net(inputs)   # same as net.forward(inputs)\n",
        "    # Loss Calculation\n",
        "    loss = criterion(outputs, labels)\n",
        "    # Clear the gradiant buffer (w <-- w - Lr*gradiant)\n",
        "    optimizer.zero_grad()\n",
        "    # Back Prop\n",
        "    loss.backward()\n",
        "    # Update Weigths\n",
        "    optimizer.step()\n",
        "\n",
        "  # Accuracy calculation \n",
        "  output = (outputs>0.5).float()   # if the output is bigger than 0.5 then change to 1 , else 0\n",
        "  # compare the results with the labels\n",
        "  accuracy = (output == labels).float().mean()\n",
        "  # print statistics\n",
        "  print(\"Epoch {}/{}, Loss: {:.3f}, Accuracy{:.3f}\".format(epoch+1,epochs, loss, accuracy))\n"
      ],
      "metadata": {
        "colab": {
          "base_uri": "https://localhost:8080/"
        },
        "id": "Ssz8qLQ-ogiY",
        "outputId": "84ad4e46-a5a1-48e8-cde4-7640aaa3f2c0"
      },
      "execution_count": 31,
      "outputs": [
        {
          "output_type": "stream",
          "name": "stdout",
          "text": [
            "Epoch 1/200, Loss: 0.422, Accuracy0.844\n",
            "Epoch 2/200, Loss: 0.320, Accuracy0.844\n",
            "Epoch 3/200, Loss: 0.345, Accuracy0.812\n",
            "Epoch 4/200, Loss: 0.486, Accuracy0.719\n",
            "Epoch 5/200, Loss: 0.323, Accuracy0.875\n",
            "Epoch 6/200, Loss: 0.415, Accuracy0.844\n",
            "Epoch 7/200, Loss: 0.392, Accuracy0.812\n",
            "Epoch 8/200, Loss: 0.426, Accuracy0.750\n",
            "Epoch 9/200, Loss: 0.474, Accuracy0.781\n",
            "Epoch 10/200, Loss: 0.368, Accuracy0.781\n",
            "Epoch 11/200, Loss: 0.338, Accuracy0.812\n",
            "Epoch 12/200, Loss: 0.377, Accuracy0.875\n",
            "Epoch 13/200, Loss: 0.256, Accuracy0.938\n",
            "Epoch 14/200, Loss: 0.336, Accuracy0.875\n",
            "Epoch 15/200, Loss: 0.563, Accuracy0.656\n",
            "Epoch 16/200, Loss: 0.370, Accuracy0.844\n",
            "Epoch 17/200, Loss: 0.398, Accuracy0.812\n",
            "Epoch 18/200, Loss: 0.568, Accuracy0.594\n",
            "Epoch 19/200, Loss: 0.387, Accuracy0.812\n",
            "Epoch 20/200, Loss: 0.565, Accuracy0.719\n",
            "Epoch 21/200, Loss: 0.354, Accuracy0.844\n",
            "Epoch 22/200, Loss: 0.395, Accuracy0.812\n",
            "Epoch 23/200, Loss: 0.196, Accuracy0.938\n",
            "Epoch 24/200, Loss: 0.330, Accuracy0.875\n",
            "Epoch 25/200, Loss: 0.432, Accuracy0.812\n",
            "Epoch 26/200, Loss: 0.501, Accuracy0.719\n",
            "Epoch 27/200, Loss: 0.407, Accuracy0.812\n",
            "Epoch 28/200, Loss: 0.581, Accuracy0.750\n",
            "Epoch 29/200, Loss: 0.303, Accuracy0.906\n",
            "Epoch 30/200, Loss: 0.540, Accuracy0.719\n",
            "Epoch 31/200, Loss: 0.483, Accuracy0.781\n",
            "Epoch 32/200, Loss: 0.551, Accuracy0.781\n",
            "Epoch 33/200, Loss: 0.361, Accuracy0.812\n",
            "Epoch 34/200, Loss: 0.298, Accuracy0.844\n",
            "Epoch 35/200, Loss: 0.494, Accuracy0.656\n",
            "Epoch 36/200, Loss: 0.344, Accuracy0.844\n",
            "Epoch 37/200, Loss: 0.426, Accuracy0.844\n",
            "Epoch 38/200, Loss: 0.493, Accuracy0.875\n",
            "Epoch 39/200, Loss: 0.516, Accuracy0.719\n",
            "Epoch 40/200, Loss: 0.391, Accuracy0.812\n",
            "Epoch 41/200, Loss: 0.368, Accuracy0.844\n",
            "Epoch 42/200, Loss: 0.477, Accuracy0.656\n",
            "Epoch 43/200, Loss: 0.337, Accuracy0.781\n",
            "Epoch 44/200, Loss: 0.328, Accuracy0.875\n",
            "Epoch 45/200, Loss: 0.357, Accuracy0.812\n",
            "Epoch 46/200, Loss: 0.371, Accuracy0.844\n",
            "Epoch 47/200, Loss: 0.364, Accuracy0.812\n",
            "Epoch 48/200, Loss: 0.572, Accuracy0.688\n",
            "Epoch 49/200, Loss: 0.467, Accuracy0.781\n",
            "Epoch 50/200, Loss: 0.492, Accuracy0.719\n",
            "Epoch 51/200, Loss: 0.374, Accuracy0.781\n",
            "Epoch 52/200, Loss: 0.405, Accuracy0.844\n",
            "Epoch 53/200, Loss: 0.421, Accuracy0.812\n",
            "Epoch 54/200, Loss: 0.424, Accuracy0.844\n",
            "Epoch 55/200, Loss: 0.378, Accuracy0.750\n",
            "Epoch 56/200, Loss: 0.346, Accuracy0.812\n",
            "Epoch 57/200, Loss: 0.346, Accuracy0.906\n",
            "Epoch 58/200, Loss: 0.670, Accuracy0.656\n",
            "Epoch 59/200, Loss: 0.326, Accuracy0.781\n",
            "Epoch 60/200, Loss: 0.211, Accuracy0.969\n",
            "Epoch 61/200, Loss: 0.486, Accuracy0.812\n",
            "Epoch 62/200, Loss: 0.560, Accuracy0.594\n",
            "Epoch 63/200, Loss: 0.605, Accuracy0.625\n",
            "Epoch 64/200, Loss: 0.304, Accuracy0.875\n",
            "Epoch 65/200, Loss: 0.470, Accuracy0.812\n",
            "Epoch 66/200, Loss: 0.470, Accuracy0.781\n",
            "Epoch 67/200, Loss: 0.296, Accuracy0.875\n",
            "Epoch 68/200, Loss: 0.378, Accuracy0.781\n",
            "Epoch 69/200, Loss: 0.479, Accuracy0.719\n",
            "Epoch 70/200, Loss: 0.359, Accuracy0.906\n",
            "Epoch 71/200, Loss: 0.681, Accuracy0.656\n",
            "Epoch 72/200, Loss: 0.409, Accuracy0.781\n",
            "Epoch 73/200, Loss: 0.277, Accuracy0.906\n",
            "Epoch 74/200, Loss: 0.513, Accuracy0.719\n",
            "Epoch 75/200, Loss: 0.261, Accuracy0.906\n",
            "Epoch 76/200, Loss: 0.440, Accuracy0.750\n",
            "Epoch 77/200, Loss: 0.364, Accuracy0.844\n",
            "Epoch 78/200, Loss: 0.405, Accuracy0.781\n",
            "Epoch 79/200, Loss: 0.567, Accuracy0.750\n",
            "Epoch 80/200, Loss: 0.348, Accuracy0.781\n",
            "Epoch 81/200, Loss: 0.365, Accuracy0.812\n",
            "Epoch 82/200, Loss: 0.501, Accuracy0.688\n",
            "Epoch 83/200, Loss: 0.286, Accuracy0.906\n",
            "Epoch 84/200, Loss: 0.198, Accuracy0.938\n",
            "Epoch 85/200, Loss: 0.394, Accuracy0.844\n",
            "Epoch 86/200, Loss: 0.350, Accuracy0.812\n",
            "Epoch 87/200, Loss: 0.292, Accuracy0.844\n",
            "Epoch 88/200, Loss: 0.489, Accuracy0.781\n",
            "Epoch 89/200, Loss: 0.419, Accuracy0.781\n",
            "Epoch 90/200, Loss: 0.316, Accuracy0.875\n",
            "Epoch 91/200, Loss: 0.339, Accuracy0.875\n",
            "Epoch 92/200, Loss: 0.444, Accuracy0.812\n",
            "Epoch 93/200, Loss: 0.499, Accuracy0.719\n",
            "Epoch 94/200, Loss: 0.436, Accuracy0.781\n",
            "Epoch 95/200, Loss: 0.389, Accuracy0.844\n",
            "Epoch 96/200, Loss: 0.563, Accuracy0.719\n",
            "Epoch 97/200, Loss: 0.422, Accuracy0.875\n",
            "Epoch 98/200, Loss: 0.378, Accuracy0.875\n",
            "Epoch 99/200, Loss: 0.417, Accuracy0.781\n",
            "Epoch 100/200, Loss: 0.404, Accuracy0.781\n",
            "Epoch 101/200, Loss: 0.370, Accuracy0.875\n",
            "Epoch 102/200, Loss: 0.572, Accuracy0.719\n",
            "Epoch 103/200, Loss: 0.370, Accuracy0.844\n",
            "Epoch 104/200, Loss: 0.435, Accuracy0.781\n",
            "Epoch 105/200, Loss: 0.396, Accuracy0.844\n",
            "Epoch 106/200, Loss: 0.311, Accuracy0.875\n",
            "Epoch 107/200, Loss: 0.358, Accuracy0.844\n",
            "Epoch 108/200, Loss: 0.348, Accuracy0.875\n",
            "Epoch 109/200, Loss: 0.424, Accuracy0.812\n",
            "Epoch 110/200, Loss: 0.480, Accuracy0.719\n",
            "Epoch 111/200, Loss: 0.309, Accuracy0.750\n",
            "Epoch 112/200, Loss: 0.545, Accuracy0.750\n",
            "Epoch 113/200, Loss: 0.337, Accuracy0.812\n",
            "Epoch 114/200, Loss: 0.328, Accuracy0.906\n",
            "Epoch 115/200, Loss: 0.668, Accuracy0.719\n",
            "Epoch 116/200, Loss: 0.338, Accuracy0.812\n",
            "Epoch 117/200, Loss: 0.586, Accuracy0.688\n",
            "Epoch 118/200, Loss: 0.484, Accuracy0.844\n",
            "Epoch 119/200, Loss: 0.491, Accuracy0.750\n",
            "Epoch 120/200, Loss: 0.335, Accuracy0.906\n",
            "Epoch 121/200, Loss: 0.252, Accuracy0.875\n",
            "Epoch 122/200, Loss: 0.309, Accuracy0.844\n",
            "Epoch 123/200, Loss: 0.223, Accuracy0.906\n",
            "Epoch 124/200, Loss: 0.317, Accuracy0.875\n",
            "Epoch 125/200, Loss: 0.270, Accuracy0.906\n",
            "Epoch 126/200, Loss: 0.405, Accuracy0.688\n",
            "Epoch 127/200, Loss: 0.335, Accuracy0.875\n",
            "Epoch 128/200, Loss: 0.535, Accuracy0.656\n",
            "Epoch 129/200, Loss: 0.282, Accuracy0.812\n",
            "Epoch 130/200, Loss: 0.481, Accuracy0.812\n",
            "Epoch 131/200, Loss: 0.307, Accuracy0.844\n",
            "Epoch 132/200, Loss: 0.413, Accuracy0.781\n",
            "Epoch 133/200, Loss: 0.350, Accuracy0.844\n",
            "Epoch 134/200, Loss: 0.349, Accuracy0.812\n",
            "Epoch 135/200, Loss: 0.328, Accuracy0.875\n",
            "Epoch 136/200, Loss: 0.347, Accuracy0.875\n",
            "Epoch 137/200, Loss: 0.315, Accuracy0.875\n",
            "Epoch 138/200, Loss: 0.367, Accuracy0.812\n",
            "Epoch 139/200, Loss: 0.384, Accuracy0.812\n",
            "Epoch 140/200, Loss: 0.420, Accuracy0.812\n",
            "Epoch 141/200, Loss: 0.542, Accuracy0.781\n",
            "Epoch 142/200, Loss: 0.526, Accuracy0.750\n",
            "Epoch 143/200, Loss: 0.279, Accuracy0.875\n",
            "Epoch 144/200, Loss: 0.468, Accuracy0.750\n",
            "Epoch 145/200, Loss: 0.217, Accuracy0.969\n",
            "Epoch 146/200, Loss: 0.320, Accuracy0.844\n",
            "Epoch 147/200, Loss: 0.339, Accuracy0.844\n",
            "Epoch 148/200, Loss: 0.376, Accuracy0.844\n",
            "Epoch 149/200, Loss: 0.159, Accuracy0.938\n",
            "Epoch 150/200, Loss: 0.300, Accuracy0.875\n",
            "Epoch 151/200, Loss: 0.377, Accuracy0.844\n",
            "Epoch 152/200, Loss: 0.325, Accuracy0.844\n",
            "Epoch 153/200, Loss: 0.386, Accuracy0.812\n",
            "Epoch 154/200, Loss: 0.366, Accuracy0.750\n",
            "Epoch 155/200, Loss: 0.513, Accuracy0.812\n",
            "Epoch 156/200, Loss: 0.461, Accuracy0.750\n",
            "Epoch 157/200, Loss: 0.457, Accuracy0.781\n",
            "Epoch 158/200, Loss: 0.573, Accuracy0.719\n",
            "Epoch 159/200, Loss: 0.498, Accuracy0.719\n",
            "Epoch 160/200, Loss: 0.553, Accuracy0.719\n",
            "Epoch 161/200, Loss: 0.560, Accuracy0.688\n",
            "Epoch 162/200, Loss: 0.318, Accuracy0.844\n",
            "Epoch 163/200, Loss: 0.320, Accuracy0.844\n",
            "Epoch 164/200, Loss: 0.284, Accuracy0.875\n",
            "Epoch 165/200, Loss: 0.560, Accuracy0.688\n",
            "Epoch 166/200, Loss: 0.448, Accuracy0.875\n",
            "Epoch 167/200, Loss: 0.389, Accuracy0.844\n",
            "Epoch 168/200, Loss: 0.408, Accuracy0.875\n",
            "Epoch 169/200, Loss: 0.403, Accuracy0.812\n",
            "Epoch 170/200, Loss: 0.409, Accuracy0.781\n",
            "Epoch 171/200, Loss: 0.547, Accuracy0.625\n",
            "Epoch 172/200, Loss: 0.389, Accuracy0.844\n",
            "Epoch 173/200, Loss: 0.261, Accuracy0.844\n",
            "Epoch 174/200, Loss: 0.486, Accuracy0.750\n",
            "Epoch 175/200, Loss: 0.433, Accuracy0.906\n",
            "Epoch 176/200, Loss: 0.515, Accuracy0.781\n",
            "Epoch 177/200, Loss: 0.357, Accuracy0.812\n",
            "Epoch 178/200, Loss: 0.247, Accuracy0.906\n",
            "Epoch 179/200, Loss: 0.463, Accuracy0.781\n",
            "Epoch 180/200, Loss: 0.419, Accuracy0.812\n",
            "Epoch 181/200, Loss: 0.403, Accuracy0.812\n",
            "Epoch 182/200, Loss: 0.382, Accuracy0.844\n",
            "Epoch 183/200, Loss: 0.450, Accuracy0.844\n",
            "Epoch 184/200, Loss: 0.371, Accuracy0.812\n",
            "Epoch 185/200, Loss: 0.352, Accuracy0.812\n",
            "Epoch 186/200, Loss: 0.489, Accuracy0.781\n",
            "Epoch 187/200, Loss: 0.394, Accuracy0.750\n",
            "Epoch 188/200, Loss: 0.423, Accuracy0.750\n",
            "Epoch 189/200, Loss: 0.422, Accuracy0.781\n",
            "Epoch 190/200, Loss: 0.311, Accuracy0.844\n",
            "Epoch 191/200, Loss: 0.497, Accuracy0.719\n",
            "Epoch 192/200, Loss: 0.239, Accuracy0.906\n",
            "Epoch 193/200, Loss: 0.366, Accuracy0.812\n",
            "Epoch 194/200, Loss: 0.425, Accuracy0.750\n",
            "Epoch 195/200, Loss: 0.650, Accuracy0.719\n",
            "Epoch 196/200, Loss: 0.312, Accuracy0.781\n",
            "Epoch 197/200, Loss: 0.346, Accuracy0.844\n",
            "Epoch 198/200, Loss: 0.377, Accuracy0.844\n",
            "Epoch 199/200, Loss: 0.452, Accuracy0.719\n",
            "Epoch 200/200, Loss: 0.425, Accuracy0.844\n"
          ]
        }
      ]
    }
  ]
}